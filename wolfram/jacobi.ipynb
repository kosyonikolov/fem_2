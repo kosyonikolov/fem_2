{
 "cells": [
  {
   "cell_type": "code",
   "execution_count": 1,
   "id": "da6b5914",
   "metadata": {},
   "outputs": [
    {
     "data": {
      "text/html": [
       "<div><img alt=\"Output\" src=\"data:image/png;base64,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\"></div>"
      ],
      "text/plain": [
       "  2                       2    3\n",
       "{x  + 3 y + 2 x y, x - 3 x  + y }"
      ]
     },
     "execution_count": 1,
     "metadata": {
      "text/html": [],
      "text/plain": []
     },
     "output_type": "execute_result"
    }
   ],
   "source": [
    "f = {x^2 + 3*y + 2 * x * y, y^3 - 3*x^2 + x}"
   ]
  },
  {
   "cell_type": "code",
   "execution_count": 3,
   "id": "0072a10b",
   "metadata": {},
   "outputs": [
    {
     "data": {
      "text/html": [
       "<div><img alt=\"Output\" src=\"data:image/png;base64,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\"></div>"
      ],
      "text/plain": [
       "                                    2\n",
       "{{2 x + 2 y, 3 + 2 x}, {1 - 6 x, 3 y }}"
      ]
     },
     "execution_count": 3,
     "metadata": {
      "text/html": [],
      "text/plain": []
     },
     "output_type": "execute_result"
    }
   ],
   "source": [
    "j = Transpose[{D[f, x], D[f, y]}]"
   ]
  },
  {
   "cell_type": "code",
   "execution_count": 6,
   "id": "e2e98dad",
   "metadata": {},
   "outputs": [
    {
     "data": {
      "text/html": [
       "<div><img alt=\"Output\" src=\"data:image/png;base64,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\"></div>"
      ],
      "text/plain": [
       "6    5\n",
       "\n",
       "-5   12"
      ]
     },
     "execution_count": 6,
     "metadata": {
      "text/html": [],
      "text/plain": []
     },
     "output_type": "execute_result"
    }
   ],
   "source": [
    "j /. {x -> 1, y -> 2} // MatrixForm"
   ]
  },
  {
   "cell_type": "code",
   "execution_count": 5,
   "id": "5ea5bfc2",
   "metadata": {},
   "outputs": [
    {
     "data": {
      "text/html": [
       "<div><pre style=\"&#102;&#111;&#110;&#116;&#45;&#102;&#97;&#109;&#105;&#108;&#121;&#58;&#32;&#34;&#67;&#111;&#117;&#114;&#105;&#101;&#114;&#32;&#78;&#101;&#119;&#34;&#44;&#67;&#111;&#117;&#114;&#105;&#101;&#114;&#44;&#109;&#111;&#110;&#111;&#115;&#112;&#97;&#99;&#101;&#59;\">&#123;&#49;&#49;&#44;&#32;&#54;&#125;</pre></div>"
      ],
      "text/plain": [
       "{11, 6}"
      ]
     },
     "execution_count": 5,
     "metadata": {
      "text/html": [],
      "text/plain": []
     },
     "output_type": "execute_result"
    }
   ],
   "source": [
    "f /. {x -> 1, y -> 2}"
   ]
  },
  {
   "cell_type": "code",
   "execution_count": null,
   "id": "2fca99b0",
   "metadata": {},
   "outputs": [],
   "source": []
  }
 ],
 "metadata": {
  "kernelspec": {
   "display_name": "Wolfram Language 13.1",
   "language": "Wolfram Language",
   "name": "wolframlanguage13.1"
  },
  "language_info": {
   "codemirror_mode": "mathematica",
   "file_extension": ".m",
   "mimetype": "application/vnd.wolfram.m",
   "name": "Wolfram Language",
   "pygments_lexer": "mathematica",
   "version": "12.0"
  }
 },
 "nbformat": 4,
 "nbformat_minor": 5
}
